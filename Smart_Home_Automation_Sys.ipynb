{
 "cells": [
  {
   "cell_type": "code",
   "execution_count": 1,
   "id": "db95c70b-cc30-4942-954a-5f0eeb8f2f99",
   "metadata": {},
   "outputs": [
    {
     "name": "stdout",
     "output_type": "stream",
     "text": [
      "This is Assignment # 03\n"
     ]
    }
   ],
   "source": [
    "print('This is Assignment # 03')"
   ]
  },
  {
   "cell_type": "markdown",
   "id": "5ff52d9f-7518-4c54-b3c8-4b0445472628",
   "metadata": {},
   "source": [
    "## ***SMART HOME AUTOMATION SYSTEM***"
   ]
  },
  {
   "cell_type": "markdown",
   "id": "f5c97de6-4fae-450b-882e-930541cc9099",
   "metadata": {},
   "source": [
    "##### 1. Device Management (Lists & Tuples)"
   ]
  },
  {
   "cell_type": "code",
   "execution_count": 5,
   "id": "b9389b30-0970-4d8d-a38b-c81939a323b3",
   "metadata": {},
   "outputs": [
    {
     "name": "stdout",
     "output_type": "stream",
     "text": [
      "\n",
      " The Smart Home Devices are\n",
      "1: To Show Devices\n",
      "2: To Add devices\n",
      "3: To remove item\n",
      "4: To sort the List\n"
     ]
    },
    {
     "name": "stdin",
     "output_type": "stream",
     "text": [
      "Enter your choice 2\n",
      "enter new device to add camera\n"
     ]
    },
    {
     "name": "stdout",
     "output_type": "stream",
     "text": [
      "1: Lights\n",
      "2: Fan\n",
      "3: AC\n",
      "4: Door Lock\n",
      "5: Thermostat\n",
      "6: camera\n",
      "['Lights', 'Fan', 'AC', 'Door Lock', 'Thermostat', 'camera']\n"
     ]
    }
   ],
   "source": [
    "# DISPLAY DEVICES\n",
    "def display_devices(home_appliances):\n",
    "    print('\\n Current Smart Devices')\n",
    "    for i, home_appliances in enumerate(home_appliances, 1):\n",
    "        print(f'{i}: {home_appliances}')\n",
    "\n",
    "#D DD NEW ITEMS\n",
    "def add_item(home_appliances):\n",
    "    new_device = input('enter new device to add')\n",
    "    home_appliances.append(new_device)\n",
    "    for i, home_appliances in enumerate(home_appliances, 1):\n",
    "        print(f'{i}: {home_appliances}')\n",
    "\n",
    "# TO REMOVE ITEM\n",
    "def remove_item(home_appliances) :\n",
    "    item_to_remove = input('Enter The Item To Remove')\n",
    "    print(item_to_remove)\n",
    "    if item_to_remove in home_appliances:\n",
    "        home_appliances.remove(item_to_remove)\n",
    "        print(f'{item_to_remove} is successfully remove from {home_appliances}')\n",
    "    else:\n",
    "        print(f'{item_to_remove} is not found in {home_appliances}')\n",
    "        try:\n",
    "            index_no = int(input('Enter the index no to remove:'))\n",
    "            if index_no >= 0 and index_no < len(home_appliances):\n",
    "                item_remove = home_appliances.pop(index_no)\n",
    "                print(f'{item_remove} is successfully removed from {home_appliances}')\n",
    "            else:\n",
    "                print('Enter Valid index Number')\n",
    "        except ValueError:\n",
    "            print('Invalid Index! Enter a valid NUmber')\n",
    "\n",
    "    print(f'Updated list: {home_appliances}')\n",
    "\n",
    "# RO SORT THE LIST\n",
    "def sort_items(home_appliances):\n",
    "    home_appliances.sort()\n",
    "    print(home_appliances)\n",
    "\n",
    "def main():\n",
    "    home_appliances = ['Lights', 'Fan', 'AC', 'Door Lock', 'Thermostat']\n",
    "    print('\\n The Smart Home Devices are')\n",
    "    print('1: To Show Devices')\n",
    "    print('2: To Add devices')\n",
    "    print('3: To remove item')\n",
    "    print('4: To sort the List')\n",
    "\n",
    "\n",
    "    choice = input('Enter your choice')\n",
    "\n",
    "    if choice == '1':\n",
    "        display_devices(home_appliances)\n",
    "    elif choice == '2':\n",
    "        add_item(home_appliances)\n",
    "    elif choice == '3':\n",
    "        remove_item(home_appliances)\n",
    "    elif choice == '4':\n",
    "        sort_items(home_appliances)\n",
    "    else:\n",
    "        print('invalid choice')\n",
    "\n",
    "    print(home_appliances)\n",
    "if __name__ == \"__main__\":\n",
    "    main()"
   ]
  },
  {
   "cell_type": "markdown",
   "id": "10c86eea-b056-44ba-b772-1c08fe9572b5",
   "metadata": {},
   "source": [
    "##### 1.2: Store Device Settings Using Tuples"
   ]
  },
  {
   "cell_type": "code",
   "execution_count": 7,
   "id": "941e59c5-6119-48ca-a889-6a7f6d534ec9",
   "metadata": {},
   "outputs": [
    {
     "name": "stdout",
     "output_type": "stream",
     "text": [
      "\n",
      "Lights: ('Lights', 'On', 20) \n",
      "Fans: ('Fan', 'Of', 40) \n",
      "AC('AC', 'Of', 1500) \n",
      "Door Lock: ('Door Lock', 'Of', 120) \n",
      "Thermostat: ('Thermostat', 'On', 200)\n"
     ]
    }
   ],
   "source": [
    "# DEFINE TUPLE FOR EACH DEVICES\n",
    "\n",
    "light_dev = (\"Lights\", 'On', 20)\n",
    "fan_dev = ('Fan', 'Of', 40)\n",
    "air_conditionar = ('AC', 'Of', 1500)\n",
    "door_look = ('Door Lock', 'Of', 120)\n",
    "thermostat = ('Thermostat', 'On', 200)\n",
    "\n",
    "print('\\nLights: {} \\nFans: {} \\nAC{} \\nDoor Lock: {} \\nThermostat: {}'.format(light_dev, fan_dev, air_conditionar, door_look, thermostat))\n"
   ]
  },
  {
   "cell_type": "markdown",
   "id": "8c2a6500-22c1-4de9-860f-9dd7dd3ab796",
   "metadata": {},
   "source": [
    "### 2. ENERGY CONSUMPTION TRACKER (Dictionaries & Sets)"
   ]
  },
  {
   "cell_type": "markdown",
   "id": "2c9f6e1b-7e54-4bee-953a-48ce4c477297",
   "metadata": {},
   "source": [
    "#### 2. Energy Consumption Tracker (Dictionaries & Sets)"
   ]
  },
  {
   "cell_type": "code",
   "execution_count": 38,
   "id": "ec0c3f1a-ccd4-4bc2-a7a7-3029535bd128",
   "metadata": {},
   "outputs": [
    {
     "name": "stdout",
     "output_type": "stream",
     "text": [
      "\n",
      "Current Energy Devices: {'Light': 5, 'Fan': 20, 'AC': 140, 'Door Lock': 15}\n",
      "\n",
      "Options:\n",
      "1. Add a new device\n",
      "2. Update energy usage\n",
      "3. Remove a device\n",
      "4. Display total energy consumption\n",
      "5. Exit\n"
     ]
    },
    {
     "name": "stdin",
     "output_type": "stream",
     "text": [
      "Enter your choice (1-5):  1\n",
      "Enter the new device name:  Camera\n",
      "Enter power consumption for Camera (in kWh):  55\n"
     ]
    },
    {
     "name": "stdout",
     "output_type": "stream",
     "text": [
      "Camera added successfully! New Dictionary: {'Light': 5, 'Fan': 20, 'AC': 140, 'Door Lock': 15, 'Camera': 55}\n",
      "\n",
      "Current Energy Devices: {'Light': 5, 'Fan': 20, 'AC': 140, 'Door Lock': 15, 'Camera': 55}\n",
      "\n",
      "Options:\n",
      "1. Add a new device\n",
      "2. Update energy usage\n",
      "3. Remove a device\n",
      "4. Display total energy consumption\n",
      "5. Exit\n"
     ]
    },
    {
     "name": "stdin",
     "output_type": "stream",
     "text": [
      "Enter your choice (1-5):  2\n",
      "Enter the device name to update:  Light\n",
      "Enter the new energy usage for Light:  7\n"
     ]
    },
    {
     "name": "stdout",
     "output_type": "stream",
     "text": [
      "Updated Energy Usage: {'Light': 7, 'Fan': 20, 'AC': 140, 'Door Lock': 15, 'Camera': 55}\n",
      "\n",
      "Current Energy Devices: {'Light': 7, 'Fan': 20, 'AC': 140, 'Door Lock': 15, 'Camera': 55}\n",
      "\n",
      "Options:\n",
      "1. Add a new device\n",
      "2. Update energy usage\n",
      "3. Remove a device\n",
      "4. Display total energy consumption\n",
      "5. Exit\n"
     ]
    },
    {
     "name": "stdin",
     "output_type": "stream",
     "text": [
      "Enter your choice (1-5):  3\n",
      "Enter item to remove:  Door Lock\n"
     ]
    },
    {
     "name": "stdout",
     "output_type": "stream",
     "text": [
      "Door Lock successfully removed.\n",
      "\n",
      "Current Energy Devices: {'Light': 7, 'Fan': 20, 'AC': 140, 'Camera': 55}\n",
      "\n",
      "Options:\n",
      "1. Add a new device\n",
      "2. Update energy usage\n",
      "3. Remove a device\n",
      "4. Display total energy consumption\n",
      "5. Exit\n"
     ]
    },
    {
     "name": "stdin",
     "output_type": "stream",
     "text": [
      "Enter your choice (1-5):  4\n"
     ]
    },
    {
     "name": "stdout",
     "output_type": "stream",
     "text": [
      "Total Energy Consumption: 222 kWh\n",
      "\n",
      "Current Energy Devices: {'Light': 7, 'Fan': 20, 'AC': 140, 'Camera': 55}\n",
      "\n",
      "Options:\n",
      "1. Add a new device\n",
      "2. Update energy usage\n",
      "3. Remove a device\n",
      "4. Display total energy consumption\n",
      "5. Exit\n"
     ]
    },
    {
     "name": "stdin",
     "output_type": "stream",
     "text": [
      "Enter your choice (1-5):  5\n"
     ]
    },
    {
     "name": "stdout",
     "output_type": "stream",
     "text": [
      "Exiting program. Goodbye!\n"
     ]
    }
   ],
   "source": [
    "# Define the dictionary\n",
    "energy_devices = {\n",
    "    \"Light\": 5,\n",
    "    \"Fan\": 20,\n",
    "    \"AC\": 140,\n",
    "    \"Door Lock\": 15,\n",
    "}\n",
    "\n",
    "# Function to add a new energy device\n",
    "def add_items():\n",
    "    device = input(\"Enter the new device name: \").strip()\n",
    "    if device in energy_devices:\n",
    "        print(f\"{device} already exists!\")\n",
    "    else:\n",
    "        try:\n",
    "            consumption = int(input(f\"Enter power consumption for {device} (in kWh): \"))\n",
    "            energy_devices[device] = consumption\n",
    "            print(f\"{device} added successfully! New Dictionary: {energy_devices}\")\n",
    "        except ValueError:\n",
    "            print(\"Invalid input! Please enter a numeric value for power consumption.\")\n",
    "\n",
    "# Function to update energy usage\n",
    "def update_energy_usage():\n",
    "    device = input(\"Enter the device name to update: \").strip()\n",
    "    if device in energy_devices:\n",
    "        try:\n",
    "            new_value = int(input(f\"Enter the new energy usage for {device}: \"))\n",
    "            energy_devices[device] = new_value\n",
    "            print(f\"Updated Energy Usage: {energy_devices}\")\n",
    "        except ValueError:\n",
    "            print(\"Invalid input! Please enter a numeric value.\")\n",
    "    else:\n",
    "        print(f\"{device} not found in the dictionary!\")\n",
    "\n",
    "# Function to remove a device\n",
    "def remove_devices():\n",
    "    remove_item = input(\"Enter item to remove: \").strip()\n",
    "    if remove_item in energy_devices:\n",
    "        del energy_devices[remove_item]\n",
    "        print(f\"{remove_item} successfully removed.\")\n",
    "    else:\n",
    "        print(f\"{remove_item} is not found.\")\n",
    "\n",
    "# Function to calculate total energy consumption\n",
    "def total_energy_consumption():\n",
    "    total_consumption = sum(energy_devices.values())\n",
    "    print(f\"Total Energy Consumption: {total_consumption} kWh\")\n",
    "\n",
    "# Main function\n",
    "def main():\n",
    "    while True:\n",
    "        print(\"\\nCurrent Energy Devices:\", energy_devices)\n",
    "        print(\"\\nOptions:\")\n",
    "        print(\"1. Add a new device\")\n",
    "        print(\"2. Update energy usage\")\n",
    "        print(\"3. Remove a device\")\n",
    "        print(\"4. Display total energy consumption\")\n",
    "        print(\"5. Exit\")\n",
    "\n",
    "        choice = input(\"Enter your choice (1-5): \").strip()\n",
    "\n",
    "        if choice == '1':\n",
    "            add_items()\n",
    "        elif choice == '2':\n",
    "            update_energy_usage()\n",
    "        elif choice == '3':\n",
    "            remove_devices()\n",
    "        elif choice == '4':\n",
    "            total_energy_consumption()\n",
    "        elif choice == '5':\n",
    "            print(\"Exiting program. Goodbye!\")\n",
    "            break\n",
    "        else:\n",
    "            print(\"Invalid choice! Please enter a number between 1 and 5.\")\n",
    "\n",
    "# Run the program\n",
    "if __name__ == \"__main__\":\n",
    "    main()"
   ]
  },
  {
   "cell_type": "markdown",
   "id": "36e1535c-6567-4be4-8ecd-e2d8dc733f76",
   "metadata": {},
   "source": [
    "##### 2.2: Identify Unique Power-Saving Modes Using Sets"
   ]
  },
  {
   "cell_type": "code",
   "execution_count": 49,
   "id": "6b9c2b23-c49f-4d9e-bee9-1cfcef4fd58c",
   "metadata": {},
   "outputs": [
    {
     "name": "stdout",
     "output_type": "stream",
     "text": [
      "{'Eco Mode', 'Night Mode', 'Away Mode'}\n",
      "<class 'set'>\n"
     ]
    }
   ],
   "source": [
    "# DEFINE A SET FOR POWER SAVING MODE\n",
    "\n",
    "power_saving_mode = {\"Eco Mode\", \"Night Mode\",\"Away Mode\"}\n",
    "print(power_saving_mode)\n",
    "print(type(power_saving_mode))"
   ]
  },
  {
   "cell_type": "code",
   "execution_count": 53,
   "id": "0041368a-745d-4cc3-af39-22489ef437b6",
   "metadata": {},
   "outputs": [
    {
     "name": "stdin",
     "output_type": "stream",
     "text": [
      "Enter New mode to Add Sleep Mode\n"
     ]
    },
    {
     "name": "stdout",
     "output_type": "stream",
     "text": [
      "All Power Saving Mode: {'Eco Mode', 'Night Mode', 'Sleep Mode', 'Away Mode'}\n"
     ]
    }
   ],
   "source": [
    "# ADD NEW POWER SAVING MODE\n",
    "\n",
    "def add_power_saving_mode(power_saving_mode):\n",
    "    # TO ADD NEW MODE\n",
    "    new_mode = input('Enter New mode to Add')\n",
    "\n",
    "    # TO CHECK IF A MODE IS AVAILABLE\n",
    "    if new_mode not in power_saving_mode:\n",
    "        power_saving_mode.add(new_mode)\n",
    "    else:\n",
    "        print(f'{new_mode} is found in Power Saving MOde')\n",
    "\n",
    "    # FULL VIEW OF ALL POWER SAVING MODE\n",
    "    print(f'All Power Saving Mode: {power_saving_mode}')\n",
    "\n",
    "add_power_saving_mode(power_saving_mode)\n",
    "    "
   ]
  },
  {
   "cell_type": "markdown",
   "id": "81bd9b3f-e479-4000-8422-439898b28f63",
   "metadata": {},
   "source": [
    "## 3. FUNCTIONS FOR SMART HOME AUTOMATION "
   ]
  },
  {
   "cell_type": "markdown",
   "id": "413ac01d-07c6-4f2b-848c-c8bc100a43c5",
   "metadata": {},
   "source": [
    "##### 3.1: Create a Function to Calculate Monthly Energy Cost"
   ]
  },
  {
   "cell_type": "code",
   "execution_count": 69,
   "id": "f7590dbf-8c8a-427d-b6e4-55cdfab94f26",
   "metadata": {},
   "outputs": [
    {
     "data": {
      "text/plain": [
       "{'Light': 7, 'Fan': 20, 'AC': 140, 'Camera': 55}"
      ]
     },
     "execution_count": 69,
     "metadata": {},
     "output_type": "execute_result"
    }
   ],
   "source": [
    "#  ACCESS THE ENERGY DEVICES\n",
    "\n",
    "energy_devices"
   ]
  },
  {
   "cell_type": "code",
   "execution_count": 84,
   "id": "7f2c361b-5024-4918-a9fb-b2e66f33a1a3",
   "metadata": {},
   "outputs": [
    {
     "name": "stdout",
     "output_type": "stream",
     "text": [
      "The total energy consumption is: 222KWh\n"
     ]
    }
   ],
   "source": [
    "# TOTAL CONSUMPTION\n",
    "\n",
    "total_energy_consumption = sum(energy_devices.values())\n",
    "print(f'The total energy consumption is: {total_consumption}KWh')"
   ]
  },
  {
   "cell_type": "code",
   "execution_count": 88,
   "id": "03a8d02b-a736-46e9-857b-cbaf4d806fff",
   "metadata": {},
   "outputs": [
    {
     "name": "stdin",
     "output_type": "stream",
     "text": [
      "Enter the monthly energy charges per unit. 23\n"
     ]
    },
    {
     "name": "stdout",
     "output_type": "stream",
     "text": [
      "Total Monthly Energy Cost is: 5106\n"
     ]
    }
   ],
   "source": [
    "# FUNCTION TO CALCULATE MONTHLY ENERGY COST\n",
    "\n",
    "def calc_energy_cost(energy_consumption):\n",
    "    energy_rate = int(input('Enter the monthly energy charges per unit.'))\n",
    "    total_cost = energy_consumption * energy_rate\n",
    "    print(f'Total Monthly Energy Cost is: {total_cost}')\n",
    "calc_energy_cost(total_energy_consumption)\n",
    "    \n",
    "\n"
   ]
  },
  {
   "cell_type": "markdown",
   "id": "f7747965-ac94-4509-be5d-3fe76f3c9f86",
   "metadata": {},
   "source": [
    "##### 3.2: Create a Function to Find Common Devices in Two Homes"
   ]
  },
  {
   "cell_type": "code",
   "execution_count": 91,
   "id": "f240db63-c20f-4943-a27f-614925162318",
   "metadata": {},
   "outputs": [],
   "source": [
    "# DEFINE TWO LIST OF TWO HOME DEVICES\n",
    "\n",
    "home_1_devices = ['Lights', 'AC', 'Fan']\n",
    "home_2_devices = ['Fan', 'Door Lock', 'Lights']"
   ]
  },
  {
   "cell_type": "code",
   "execution_count": 98,
   "id": "7f407b0f-6ff7-4265-a986-88151696b318",
   "metadata": {},
   "outputs": [
    {
     "data": {
      "text/plain": [
       "{'Fan', 'Lights'}"
      ]
     },
     "execution_count": 98,
     "metadata": {},
     "output_type": "execute_result"
    }
   ],
   "source": [
    "# FIND COMMON DEVICES IN BOTH HOMES\n",
    "\n",
    "def common_home_devices(home_1_devices, home_2_devices):\n",
    "    return set(home_1_devices) & set(home_2_devices)\n",
    "    # & --> IS SET INTERSECTION OPERATOR\n",
    "\n",
    "common_home_devices(home_1_devices, home_2_devices)\n",
    "    \n",
    "\n",
    "    "
   ]
  },
  {
   "cell_type": "markdown",
   "id": "0d5e5563-8fb5-4874-b06c-b24d20e65140",
   "metadata": {},
   "source": [
    "## 4. AUTOMATION FEATURES "
   ]
  },
  {
   "cell_type": "markdown",
   "id": "39482e76-b5a6-497c-9210-c0b0cbd52afe",
   "metadata": {},
   "source": [
    "##### 4.1: Create an Automation Rule Using Functions"
   ]
  },
  {
   "cell_type": "code",
   "execution_count": 108,
   "id": "f8175537-6760-4a9e-8990-8b73de7b4ea4",
   "metadata": {},
   "outputs": [
    {
     "name": "stdin",
     "output_type": "stream",
     "text": [
      "Enter device Apply Action FAN\n",
      "Enter time to Apply Action 12: 00 PM\n",
      "Choose the action: ON/OFF OFF\n"
     ]
    },
    {
     "name": "stdout",
     "output_type": "stream",
     "text": [
      "Automation Rule: FAN will be turned OFF at 12: 00 PM.\n"
     ]
    }
   ],
   "source": [
    "def set_automation_rule(device, time, action):\n",
    "    return f\"Automation Rule: {device} will be turned {action} at {time}.\"\n",
    "\n",
    "\n",
    "device = input('Enter device Apply Action')\n",
    "time = input('Enter time to Apply Action')\n",
    "action = input('Choose the action: ON/OFF')\n",
    "\n",
    "print(set_automation_rule(device, time, action))"
   ]
  },
  {
   "cell_type": "markdown",
   "id": "ecc95cef-6d1d-4a1a-b23d-21f7971fe4d8",
   "metadata": {},
   "source": [
    "##### 4.2: Function to Optimize Power Consumption"
   ]
  },
  {
   "cell_type": "code",
   "execution_count": 121,
   "id": "93a327b0-2c44-4fd0-b067-e8bfadc81912",
   "metadata": {},
   "outputs": [
    {
     "name": "stdout",
     "output_type": "stream",
     "text": [
      "OPTIMIZED DEVICE: ['Lights', 'Fan', 'Thermostat']\n"
     ]
    }
   ],
   "source": [
    "def optimize_power(devices):\n",
    "    optimized_devices = [device[0] for device in devices if device[1] <= 1000]\n",
    "    return optimized_devices\n",
    "\n",
    "\n",
    "devices = [(\"Lights\", 60), (\"AC\", 1500), (\"Fan\", 40), (\"Heater\", 2000),('Thermostat',900)]\n",
    "print(f'OPTIMIZED DEVICE: {optimize_power(devices)}')\n",
    "\n"
   ]
  },
  {
   "cell_type": "markdown",
   "id": "4bfc5149-1136-435b-8487-58e1765a7625",
   "metadata": {},
   "source": [
    "### Smart Home AI Assistant (Using *args & **kwargs)"
   ]
  },
  {
   "cell_type": "code",
   "execution_count": 126,
   "id": "28b1e010-41f5-49ea-9be1-8a1a862ecf59",
   "metadata": {},
   "outputs": [
    {
     "name": "stdout",
     "output_type": "stream",
     "text": [
      "Checking status for: Lights, AC\n",
      "Lights set to OFF\n",
      "Ac set to ON\n"
     ]
    }
   ],
   "source": [
    "def smart_home_assistant(name, *args, **kwargs):\n",
    "    print(f\"Checking status for: {', '.join(args)}\")\n",
    "    for device, status in kwargs.items():\n",
    "        print(f\"{device.capitalize()} set to {status}\")\n",
    "\n",
    "# Example\n",
    "smart_home_assistant(\"Alice\", \"Lights\", \"AC\", lights=\"OFF\", ac=\"ON\")"
   ]
  },
  {
   "cell_type": "code",
   "execution_count": null,
   "id": "781cf079-f6cc-44b2-ba66-650e85c139c4",
   "metadata": {},
   "outputs": [],
   "source": []
  }
 ],
 "metadata": {
  "kernelspec": {
   "display_name": "Python [conda env:base] *",
   "language": "python",
   "name": "conda-base-py"
  },
  "language_info": {
   "codemirror_mode": {
    "name": "ipython",
    "version": 3
   },
   "file_extension": ".py",
   "mimetype": "text/x-python",
   "name": "python",
   "nbconvert_exporter": "python",
   "pygments_lexer": "ipython3",
   "version": "3.12.7"
  }
 },
 "nbformat": 4,
 "nbformat_minor": 5
}
