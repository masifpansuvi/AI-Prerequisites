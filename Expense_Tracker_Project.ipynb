{
 "cells": [
  {
   "cell_type": "markdown",
   "id": "204c06fc-1431-46dc-b105-c2a40f01979b",
   "metadata": {},
   "source": [
    "# EXPENSE TRACKER"
   ]
  },
  {
   "cell_type": "markdown",
   "id": "d637b4cd-74fc-42aa-a6d6-f97a8a137945",
   "metadata": {},
   "source": [
    "#### 1. User Profile Setup:"
   ]
  },
  {
   "cell_type": "code",
   "execution_count": 15,
   "id": "367b0a34-f88c-4b80-af38-23994b3ddce1",
   "metadata": {},
   "outputs": [
    {
     "name": "stdin",
     "output_type": "stream",
     "text": [
      "Please Enter Your Name Sarah\n",
      "Please Enter Your Profession software engineer\n"
     ]
    },
    {
     "name": "stdout",
     "output_type": "stream",
     "text": [
      "Welcome Sarah lets analyze your financial health as a software engineer\n"
     ]
    }
   ],
   "source": [
    "user_name = input('Please Enter Your Name')\n",
    "user_profession = input('Please Enter Your Profession')\n",
    "\n",
    "print(f'Welcome {user_name} lets analyze your financial health as a {user_profession}')"
   ]
  },
  {
   "cell_type": "markdown",
   "id": "e2ede118-9e41-4caa-891f-7310ba050964",
   "metadata": {},
   "source": [
    "#### 2. Income and Expense Management:"
   ]
  },
  {
   "cell_type": "code",
   "execution_count": 37,
   "id": "7e7cdf5c-db6c-498d-8eb1-6f2c7fb90b6d",
   "metadata": {},
   "outputs": [
    {
     "name": "stdin",
     "output_type": "stream",
     "text": [
      "Enter Your Monthly Income Rs. 120000\n",
      "Enter Your Monthly Expenses Rs. 90000\n"
     ]
    },
    {
     "name": "stdout",
     "output_type": "stream",
     "text": [
      "Total savings Rs 30000\n",
      "Saving Percentage 25%\n"
     ]
    }
   ],
   "source": [
    "user_income = int(input('Enter Your Monthly Income Rs.'))\n",
    "user_expenses = int(input('Enter Your Monthly Expenses Rs.'))\n",
    "user_savings = user_income - user_expenses\n",
    "print(f'Total savings Rs {user_savings}')\n",
    "income_saved = int((user_savings/user_income) * 100)\n",
    "print(f'Saving Percentage {income_saved}%')"
   ]
  },
  {
   "cell_type": "markdown",
   "id": "c9c51559-0cfb-4ed6-aea5-e264d853b8f9",
   "metadata": {},
   "source": [
    "#### 3. Financial Health Check"
   ]
  },
  {
   "cell_type": "code",
   "execution_count": 48,
   "id": "6188ae2a-0f2c-409e-b5cc-fa5d38a92326",
   "metadata": {},
   "outputs": [],
   "source": [
    "# USE NESTED CONDITION STATEMENT TO CHECK FINANCIAL CONDITION"
   ]
  },
  {
   "cell_type": "code",
   "execution_count": 56,
   "id": "c9e5cbeb-9e5f-4664-8ad6-8295caa1a9dc",
   "metadata": {},
   "outputs": [
    {
     "name": "stdout",
     "output_type": "stream",
     "text": [
      "Great Job Sarah, you have a strong savings habbit\n"
     ]
    }
   ],
   "source": [
    "if income_saved >= 20:\n",
    "    print(f'Great Job {user_name}, you have a strong savings habbit')\n",
    "elif income_saved < 20 and income_saved > 10:\n",
    "    print(f'Good {user_name}, but you could save a bit more')\n",
    "else:\n",
    "    print(f'Warning {user_name} you should consider on our expenses')"
   ]
  },
  {
   "cell_type": "markdown",
   "id": "31722233-4371-467f-9aef-e52c80ffbd4a",
   "metadata": {},
   "source": [
    "### 4. Categorize Expenses:"
   ]
  },
  {
   "cell_type": "code",
   "execution_count": 59,
   "id": "b9d33189-9787-4788-a9fd-c25e1b501295",
   "metadata": {},
   "outputs": [],
   "source": [
    "# BREAKDOWN EXPENSES"
   ]
  },
  {
   "cell_type": "code",
   "execution_count": 115,
   "id": "1433cbd9-59d9-4d18-a152-df248aeeaca4",
   "metadata": {},
   "outputs": [
    {
     "name": "stdin",
     "output_type": "stream",
     "text": [
      "How much do you spend on Essentials (e.g., rent, utilities, groceries)? 70000\n",
      "How much do you spend on wants? 20000\n",
      "How much do you saved/invest? 30000\n"
     ]
    },
    {
     "name": "stdout",
     "output_type": "stream",
     "text": [
      "Expense Break Down\n",
      "Essentials expenses 58% \n",
      "Wants 16%\n",
      "Savings/Investment 25%\n"
     ]
    }
   ],
   "source": [
    "user_essentials = int(input('How much do you spend on Essentials (e.g., rent, utilities, groceries)?'))\n",
    "user_wants = int(input('How much do you spend on wants?'))\n",
    "user_savings = int(input('How much do you saved/invest?'))\n",
    "\n",
    "print('Expense Break Down')\n",
    "\n",
    "print(f'Essentials expenses {(int(user_essentials/user_income * 100))}% ')\n",
    "print(f'Wants {int(user_wants/user_income * 100)}%')\n",
    "print(f'Savings/Investment {int(user_savings/user_income * 100)}%')\n",
    "\n"
   ]
  },
  {
   "cell_type": "markdown",
   "id": "051a480b-1230-44c8-b28c-9d2ad4a6a468",
   "metadata": {},
   "source": [
    "#### 5. Custom Goals"
   ]
  },
  {
   "cell_type": "code",
   "execution_count": 98,
   "id": "db4fb80e-42a0-4e14-b733-553cb9a2a323",
   "metadata": {},
   "outputs": [
    {
     "name": "stdin",
     "output_type": "stream",
     "text": [
      "Enter your Savings Goal (in %) 20\n"
     ]
    },
    {
     "name": "stdout",
     "output_type": "stream",
     "text": [
      "Sarah's saving goal is 20%\n",
      "Sarah's savings is 25%\n",
      "Keep working on your savings, Sarah. You're 5% away from your goal.\n"
     ]
    }
   ],
   "source": [
    "# SETUP SAVINGS GOAL\n",
    "savings_goal = int(input('Enter your Savings Goal (in %)'))\n",
    "print(f\"{user_name}'s saving goal is {savings_goal}%\")\n",
    "print(f\"{user_name}'s savings is {income_saved}%\")\n",
    "# EVALUATE SAVINGS GOAL\n",
    "if savings_goal >= income_saved:\n",
    "    print(f\"Congratulations, {user_name}! You’ve achieved your savings goal.\")\n",
    "else:\n",
    "    print(f\"Keep working on your savings, {user_name}. You're {income_saved - savings_goal}% away from your goal.\")"
   ]
  },
  {
   "cell_type": "markdown",
   "id": "39fb2de3-ca10-4236-a046-009ed944553b",
   "metadata": {},
   "source": [
    "### ***6. Export Summary (Bonus Feature):***"
   ]
  },
  {
   "cell_type": "code",
   "execution_count": 101,
   "id": "892acd34-ecfa-48fc-91bb-ef457de4ecba",
   "metadata": {},
   "outputs": [],
   "source": [
    "# SUMMARY OF USER'S FINANCIAL HEALTH "
   ]
  },
  {
   "cell_type": "code",
   "execution_count": 117,
   "id": "fa3673d5-f75f-4e2f-a551-9ea579efceab",
   "metadata": {},
   "outputs": [
    {
     "name": "stdout",
     "output_type": "stream",
     "text": [
      "\n",
      "THIS FINANCIAL HEALTH REPORT OF Sarah IS:\n",
      "\n",
      "User Income             : 120000\n",
      "User Expeses            : 90000\n",
      "User Savings            : 30000\n",
      "User savings percentage : 25%\n",
      "Expense BreakDown:\n",
      "Essentails              : 58%\n",
      "Wants                   : 16%\n",
      "Savings/Investments     : 25%\n",
      "Status                  : 5% away from  the goal.\n",
      "\n",
      "\n",
      "\n"
     ]
    }
   ],
   "source": [
    "print(f\"\"\"\n",
    "THIS FINANCIAL HEALTH REPORT OF {user_name} IS:\n",
    "\n",
    "User Income             : {user_income}\n",
    "User Expeses            : {user_expenses}\n",
    "User Savings            : {user_savings}\n",
    "User savings percentage : {income_saved}%\n",
    "Expense BreakDown:\n",
    "Essentails              : {(int(user_essentials/user_income * 100))}%\n",
    "Wants                   : {int(user_wants/user_income * 100)}%\n",
    "Savings/Investments     : {int(user_savings/user_income * 100)}%\n",
    "Status                  : {income_saved - savings_goal}% away from  the goal.\n",
    "\n",
    "\n",
    "\"\"\")"
   ]
  },
  {
   "cell_type": "code",
   "execution_count": null,
   "id": "84071d0c-4346-412f-bbc6-bae43dbfc230",
   "metadata": {},
   "outputs": [],
   "source": []
  }
 ],
 "metadata": {
  "kernelspec": {
   "display_name": "Python [conda env:base] *",
   "language": "python",
   "name": "conda-base-py"
  },
  "language_info": {
   "codemirror_mode": {
    "name": "ipython",
    "version": 3
   },
   "file_extension": ".py",
   "mimetype": "text/x-python",
   "name": "python",
   "nbconvert_exporter": "python",
   "pygments_lexer": "ipython3",
   "version": "3.12.7"
  }
 },
 "nbformat": 4,
 "nbformat_minor": 5
}
